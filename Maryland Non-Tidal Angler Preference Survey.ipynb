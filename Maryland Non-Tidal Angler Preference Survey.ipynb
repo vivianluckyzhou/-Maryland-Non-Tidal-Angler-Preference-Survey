{
 "cells": [
  {
   "cell_type": "code",
   "execution_count": 1,
   "metadata": {},
   "outputs": [],
   "source": [
    "# suppress all warnings\n",
    "import warnings\n",
    "warnings.filterwarnings(\"ignore\")\n",
    "\n",
    "import pandas as pd\n",
    "import numpy as np\n",
    "\n",
    "%matplotlib inline\n",
    "import matplotlib.pyplot as plt\n",
    "import seaborn as sns\n",
    "##from imblearn.over_sampling import SMOTE\n",
    "\n",
    "\n",
    "from sklearn.model_selection import train_test_split\n",
    "from sklearn.ensemble import RandomForestClassifier\n",
    "from sklearn.linear_model import LogisticRegression\n",
    "\n",
    "from sklearn.metrics import classification_report, roc_auc_score, roc_curve \n",
    "from sklearn.calibration import calibration_curve"
   ]
  },
  {
   "cell_type": "markdown",
   "metadata": {},
   "source": [
    "## Load data"
   ]
  },
  {
   "cell_type": "code",
   "execution_count": 2,
   "metadata": {},
   "outputs": [
    {
     "data": {
      "text/html": [
       "<div>\n",
       "<style scoped>\n",
       "    .dataframe tbody tr th:only-of-type {\n",
       "        vertical-align: middle;\n",
       "    }\n",
       "\n",
       "    .dataframe tbody tr th {\n",
       "        vertical-align: top;\n",
       "    }\n",
       "\n",
       "    .dataframe thead th {\n",
       "        text-align: right;\n",
       "    }\n",
       "</style>\n",
       "<table border=\"1\" class=\"dataframe\">\n",
       "  <thead>\n",
       "    <tr style=\"text-align: right;\">\n",
       "      <th></th>\n",
       "      <th>ID_Code</th>\n",
       "      <th>MD_2015_Fish</th>\n",
       "      <th>MD_2015_Trips</th>\n",
       "      <th>Gender</th>\n",
       "      <th>Year_born</th>\n",
       "      <th>Race</th>\n",
       "      <th>Education</th>\n",
       "      <th>Household</th>\n",
       "      <th>Annual_Income</th>\n",
       "      <th>Employment</th>\n",
       "      <th>Age</th>\n",
       "    </tr>\n",
       "  </thead>\n",
       "  <tbody>\n",
       "    <tr>\n",
       "      <th>0</th>\n",
       "      <td>100</td>\n",
       "      <td>0.0</td>\n",
       "      <td>NaN</td>\n",
       "      <td>1.0</td>\n",
       "      <td>NaN</td>\n",
       "      <td>1.0</td>\n",
       "      <td>1.0</td>\n",
       "      <td>16.0</td>\n",
       "      <td>NaN</td>\n",
       "      <td>9.0</td>\n",
       "      <td>NaN</td>\n",
       "    </tr>\n",
       "    <tr>\n",
       "      <th>1</th>\n",
       "      <td>1000</td>\n",
       "      <td>1.0</td>\n",
       "      <td>3.0</td>\n",
       "      <td>1.0</td>\n",
       "      <td>NaN</td>\n",
       "      <td>6.0</td>\n",
       "      <td>3.0</td>\n",
       "      <td>1.0</td>\n",
       "      <td>2.0</td>\n",
       "      <td>9.0</td>\n",
       "      <td>NaN</td>\n",
       "    </tr>\n",
       "    <tr>\n",
       "      <th>2</th>\n",
       "      <td>1047</td>\n",
       "      <td>1.0</td>\n",
       "      <td>5.0</td>\n",
       "      <td>1.0</td>\n",
       "      <td>1979.0</td>\n",
       "      <td>1.0</td>\n",
       "      <td>3.0</td>\n",
       "      <td>13.0</td>\n",
       "      <td>4.0</td>\n",
       "      <td>5.0</td>\n",
       "      <td>37.0</td>\n",
       "    </tr>\n",
       "    <tr>\n",
       "      <th>3</th>\n",
       "      <td>1059</td>\n",
       "      <td>1.0</td>\n",
       "      <td>2.0</td>\n",
       "      <td>1.0</td>\n",
       "      <td>1969.0</td>\n",
       "      <td>1.0</td>\n",
       "      <td>4.0</td>\n",
       "      <td>13.0</td>\n",
       "      <td>7.0</td>\n",
       "      <td>5.0</td>\n",
       "      <td>47.0</td>\n",
       "    </tr>\n",
       "    <tr>\n",
       "      <th>4</th>\n",
       "      <td>1068</td>\n",
       "      <td>1.0</td>\n",
       "      <td>5.0</td>\n",
       "      <td>1.0</td>\n",
       "      <td>1960.0</td>\n",
       "      <td>6.0</td>\n",
       "      <td>2.0</td>\n",
       "      <td>1.0</td>\n",
       "      <td>5.0</td>\n",
       "      <td>2.0</td>\n",
       "      <td>56.0</td>\n",
       "    </tr>\n",
       "  </tbody>\n",
       "</table>\n",
       "</div>"
      ],
      "text/plain": [
       "   ID_Code  MD_2015_Fish  MD_2015_Trips  Gender  Year_born  Race  Education  \\\n",
       "0      100           0.0            NaN     1.0        NaN   1.0        1.0   \n",
       "1     1000           1.0            3.0     1.0        NaN   6.0        3.0   \n",
       "2     1047           1.0            5.0     1.0     1979.0   1.0        3.0   \n",
       "3     1059           1.0            2.0     1.0     1969.0   1.0        4.0   \n",
       "4     1068           1.0            5.0     1.0     1960.0   6.0        2.0   \n",
       "\n",
       "   Household  Annual_Income  Employment   Age  \n",
       "0       16.0            NaN         9.0   NaN  \n",
       "1        1.0            2.0         9.0   NaN  \n",
       "2       13.0            4.0         5.0  37.0  \n",
       "3       13.0            7.0         5.0  47.0  \n",
       "4        1.0            5.0         2.0  56.0  "
      ]
     },
     "execution_count": 2,
     "metadata": {},
     "output_type": "execute_result"
    }
   ],
   "source": [
    "data = pd.read_excel('Inland_BEST2.xlsx',sheet_name='Sheet2')\n",
    "data.head()"
   ]
  },
  {
   "cell_type": "code",
   "execution_count": 3,
   "metadata": {},
   "outputs": [
    {
     "data": {
      "text/plain": [
       "(933, 11)"
      ]
     },
     "execution_count": 3,
     "metadata": {},
     "output_type": "execute_result"
    }
   ],
   "source": [
    "data.shape"
   ]
  },
  {
   "cell_type": "code",
   "execution_count": 4,
   "metadata": {},
   "outputs": [
    {
     "data": {
      "text/html": [
       "<div>\n",
       "<style scoped>\n",
       "    .dataframe tbody tr th:only-of-type {\n",
       "        vertical-align: middle;\n",
       "    }\n",
       "\n",
       "    .dataframe tbody tr th {\n",
       "        vertical-align: top;\n",
       "    }\n",
       "\n",
       "    .dataframe thead th {\n",
       "        text-align: right;\n",
       "    }\n",
       "</style>\n",
       "<table border=\"1\" class=\"dataframe\">\n",
       "  <thead>\n",
       "    <tr style=\"text-align: right;\">\n",
       "      <th></th>\n",
       "      <th>MD_2015_Fish</th>\n",
       "      <th>Gender</th>\n",
       "      <th>Age</th>\n",
       "      <th>Race</th>\n",
       "      <th>Education</th>\n",
       "      <th>Household</th>\n",
       "      <th>Annual_Income</th>\n",
       "      <th>Employment</th>\n",
       "    </tr>\n",
       "  </thead>\n",
       "  <tbody>\n",
       "    <tr>\n",
       "      <th>2</th>\n",
       "      <td>1.0</td>\n",
       "      <td>1.0</td>\n",
       "      <td>37.0</td>\n",
       "      <td>1</td>\n",
       "      <td>3</td>\n",
       "      <td>13</td>\n",
       "      <td>4</td>\n",
       "      <td>5</td>\n",
       "    </tr>\n",
       "    <tr>\n",
       "      <th>3</th>\n",
       "      <td>1.0</td>\n",
       "      <td>1.0</td>\n",
       "      <td>47.0</td>\n",
       "      <td>1</td>\n",
       "      <td>4</td>\n",
       "      <td>13</td>\n",
       "      <td>7</td>\n",
       "      <td>5</td>\n",
       "    </tr>\n",
       "    <tr>\n",
       "      <th>4</th>\n",
       "      <td>1.0</td>\n",
       "      <td>1.0</td>\n",
       "      <td>56.0</td>\n",
       "      <td>6</td>\n",
       "      <td>2</td>\n",
       "      <td>1</td>\n",
       "      <td>5</td>\n",
       "      <td>2</td>\n",
       "    </tr>\n",
       "    <tr>\n",
       "      <th>5</th>\n",
       "      <td>1.0</td>\n",
       "      <td>1.0</td>\n",
       "      <td>55.0</td>\n",
       "      <td>4</td>\n",
       "      <td>5</td>\n",
       "      <td>14</td>\n",
       "      <td>6</td>\n",
       "      <td>2</td>\n",
       "    </tr>\n",
       "    <tr>\n",
       "      <th>7</th>\n",
       "      <td>1.0</td>\n",
       "      <td>2.0</td>\n",
       "      <td>43.0</td>\n",
       "      <td>1</td>\n",
       "      <td>4</td>\n",
       "      <td>34</td>\n",
       "      <td>1</td>\n",
       "      <td>6</td>\n",
       "    </tr>\n",
       "  </tbody>\n",
       "</table>\n",
       "</div>"
      ],
      "text/plain": [
       "   MD_2015_Fish  Gender   Age Race Education Household Annual_Income  \\\n",
       "2           1.0     1.0  37.0    1         3        13             4   \n",
       "3           1.0     1.0  47.0    1         4        13             7   \n",
       "4           1.0     1.0  56.0    6         2         1             5   \n",
       "5           1.0     1.0  55.0    4         5        14             6   \n",
       "7           1.0     2.0  43.0    1         4        34             1   \n",
       "\n",
       "  Employment  \n",
       "2          5  \n",
       "3          5  \n",
       "4          2  \n",
       "5          2  \n",
       "7          6  "
      ]
     },
     "execution_count": 4,
     "metadata": {},
     "output_type": "execute_result"
    }
   ],
   "source": [
    "colnames = ['MD_2015_Fish', 'Gender', 'Age', 'Race', 'Education', 'Household', 'Annual_Income', 'Employment']\n",
    "\n",
    "df_features = data[colnames].dropna()\n",
    "\n",
    "df_features[['Race','Education','Household',\n",
    "             'Annual_Income','Employment']] = df_features[['Race','Education',\n",
    "                                                           'Household','Annual_Income','Employment']].astype(int) #change the float to integer in order to change to string\n",
    "\n",
    "df_features[['Race','Education','Household',\n",
    "             'Annual_Income','Employment']] = df_features[['Race','Education',\n",
    "                                                           'Household','Annual_Income','Employment']].astype(str) #change the integer to string, so we can split each number, like 13 to \"1\" \"3\"\n",
    "df_features.head()"
   ]
  },
  {
   "cell_type": "markdown",
   "metadata": {},
   "source": [
    "## Data preprocessing"
   ]
  },
  {
   "cell_type": "code",
   "execution_count": 5,
   "metadata": {},
   "outputs": [],
   "source": [
    "df1 = pd.DataFrame(columns=colnames)\n",
    "\n",
    "for i in df_features.index:\n",
    "    \n",
    "    len_a = len(df_features.loc[i,'Household'])   \n",
    "    len_b = len(df_features.loc[i,'Employment'])\n",
    "    \n",
    "    Label = df_features.loc[i,'MD_2015_Fish']\n",
    "    Gender = df_features.loc[i,'Gender']\n",
    "    Race = df_features.loc[i,'Race']\n",
    "    Age = df_features.loc[i,'Age']\n",
    "    Edu = df_features.loc[i,'Education']\n",
    "    Income = df_features.loc[i,'Annual_Income']\n",
    "    \n",
    "    \n",
    "    if len_a > 1:        \n",
    "        for j in range(len_a):            \n",
    "            if len_b > 1:\n",
    "                for k in range(len_b):\n",
    "                    House = df_features.loc[i,'Household'][j]\n",
    "                    Emp = df_features.loc[i,'Employment'][k]\n",
    "\n",
    "                    temp = pd.DataFrame([[Label, Gender, Age, Race, Edu, House, Income, Emp]], columns=colnames)\n",
    "                    df1 = df1.append(temp)\n",
    "                    \n",
    "            else:\n",
    "                House = df_features.loc[i,'Household'][j]\n",
    "                Emp = df_features.loc[i,'Employment']\n",
    "                temp = pd.DataFrame([[Label, Gender, Age, Race, Edu, House, Income, Emp]], columns=colnames)\n",
    "                df1 = df1.append(temp)\n",
    "                \n",
    "    else:\n",
    "        if len_b > 1:\n",
    "            for k in range(len_b):\n",
    "                House = df_features.loc[i,'Household']\n",
    "                Emp = df_features.loc[i,'Employment'][k]\n",
    "\n",
    "                temp = pd.DataFrame([[Label, Gender, Age, Race, Edu, House, Income, Emp]], columns=colnames)\n",
    "                df1 = df1.append(temp)\n",
    "                    \n",
    "        else:\n",
    "            House = df_features.loc[i,'Household']\n",
    "            Emp = df_features.loc[i,'Employment']\n",
    "\n",
    "            temp = pd.DataFrame([[Label, Gender, Age, Race, Edu, House, Income, Emp]], columns=colnames)\n",
    "            df1 = df1.append(temp)\n",
    "            \n",
    "df1.reset_index(inplace=True, drop=True)\n",
    "df1.Gender = df1.Gender - 1   #change Gender 1,2 to 0,1"
   ]
  },
  {
   "cell_type": "code",
   "execution_count": 6,
   "metadata": {},
   "outputs": [
    {
     "data": {
      "text/plain": [
       "<matplotlib.axes._subplots.AxesSubplot at 0x22a9a128198>"
      ]
     },
     "execution_count": 6,
     "metadata": {},
     "output_type": "execute_result"
    },
    {
     "data": {
      "image/png": "[encoded data removed]",
      "text/plain": [
       "<Figure size 432x288 with 2 Axes>"
      ]
     },
     "metadata": {
      "needs_background": "light"
     },
     "output_type": "display_data"
    }
   ],
   "source": [
    "y = df1.MD_2015_Fish\n",
    "X = pd.get_dummies(data=df1.iloc[:,1:], columns=['Race','Education','Household','Annual_Income','Employment'], drop_first=True)\n",
    "sns.heatmap(X.corr())"
   ]
  },
  {
   "cell_type": "code",
   "execution_count": 7,
   "metadata": {},
   "outputs": [
    {
     "data": {
      "text/plain": [
       "<matplotlib.axes._subplots.AxesSubplot at 0x22a9a5af8d0>"
      ]
     },
     "execution_count": 7,
     "metadata": {},
     "output_type": "execute_result"
    },
    {
     "data": {
      "image/png": "[encoded data removed]",
      "text/plain": [
       "<Figure size 432x288 with 1 Axes>"
      ]
     },
     "metadata": {
      "needs_background": "light"
     },
     "output_type": "display_data"
    }
   ],
   "source": [
    "sns.distplot(X.Age)"
   ]
  },
  {
   "cell_type": "markdown",
   "metadata": {},
   "source": [
    "## Build classification models\n",
    "\n",
    "### 1) Logistic regression"
   ]
  },
  {
   "cell_type": "code",
   "execution_count": 8,
   "metadata": {},
   "outputs": [],
   "source": [
    "X_train, X_test, y_train, y_test = train_test_split(X, y, test_size = 0.2, random_state = 0)"
   ]
  },
  {
   "cell_type": "code",
   "execution_count": 9,
   "metadata": {},
   "outputs": [
    {
     "name": "stdout",
     "output_type": "stream",
     "text": [
      "              precision    recall  f1-score   support\n",
      "\n",
      "         0.0       0.00      0.00      0.00        16\n",
      "         1.0       0.92      1.00      0.96       187\n",
      "\n",
      "    accuracy                           0.92       203\n",
      "   macro avg       0.46      0.50      0.48       203\n",
      "weighted avg       0.85      0.92      0.88       203\n",
      "\n"
     ]
    }
   ],
   "source": [
    "# Train logistic regression\n",
    "logit = LogisticRegression()\n",
    "logit.fit(X_train, y_train)\n",
    "\n",
    "y_pred = logit.predict(X_test)\n",
    "y_pred_probs = logit.predict_proba(X_test)[:,1]\n",
    "print(classification_report(y_test, y_pred))"
   ]
  },
  {
   "cell_type": "code",
   "execution_count": 10,
   "metadata": {
    "scrolled": true
   },
   "outputs": [
    {
     "name": "stdout",
     "output_type": "stream",
     "text": [
      "=========================================================\n",
      "              precision    recall  f1-score   support\n",
      "\n",
      "         0.0       0.00      0.00      0.00        27\n",
      "         1.0       0.92      1.00      0.96       328\n",
      "\n",
      "    accuracy                           0.92       355\n",
      "   macro avg       0.46      0.50      0.48       355\n",
      "weighted avg       0.85      0.92      0.89       355\n",
      "\n",
      "=========================================================\n",
      "              precision    recall  f1-score   support\n",
      "\n",
      "         0.0       0.00      0.00      0.00        31\n",
      "         1.0       0.91      1.00      0.95       324\n",
      "\n",
      "    accuracy                           0.91       355\n",
      "   macro avg       0.46      0.50      0.48       355\n",
      "weighted avg       0.83      0.91      0.87       355\n",
      "\n",
      "=========================================================\n",
      "              precision    recall  f1-score   support\n",
      "\n",
      "         0.0       0.00      0.00      0.00        32\n",
      "         1.0       0.91      1.00      0.95       323\n",
      "\n",
      "    accuracy                           0.91       355\n",
      "   macro avg       0.45      0.50      0.48       355\n",
      "weighted avg       0.83      0.91      0.87       355\n",
      "\n",
      "=========================================================\n",
      "              precision    recall  f1-score   support\n",
      "\n",
      "         0.0       0.00      0.00      0.00        27\n",
      "         1.0       0.92      1.00      0.96       328\n",
      "\n",
      "    accuracy                           0.92       355\n",
      "   macro avg       0.46      0.50      0.48       355\n",
      "weighted avg       0.85      0.92      0.89       355\n",
      "\n"
     ]
    }
   ],
   "source": [
    "# Set different random seeds to check testing accuracy\n",
    "\n",
    "for seed in range(4):\n",
    "    X_train, X_test, y_train, y_test = train_test_split(X, y, test_size = 0.35, random_state = seed)\n",
    "    # Train logistic regression\n",
    "    logit = LogisticRegression()\n",
    "    logit.fit(X_train, y_train)\n",
    "\n",
    "    y_pred = logit.predict(X_test)\n",
    "    y_pred_probs = logit.predict_proba(X_test)[:,1]\n",
    "    print('=========================================================')\n",
    "    print(classification_report(y_test, y_pred))"
   ]
  },
  {
   "cell_type": "code",
   "execution_count": 11,
   "metadata": {},
   "outputs": [
    {
     "data": {
      "text/plain": [
       "Text(0.5, 0, 'Threshold')"
      ]
     },
     "execution_count": 11,
     "metadata": {},
     "output_type": "execute_result"
    },
    {
     "data": {
      "image/png": "[encoded data removed]",
      "text/plain": [
       "<Figure size 432x288 with 2 Axes>"
      ]
     },
     "metadata": {
      "needs_background": "light"
     },
     "output_type": "display_data"
    }
   ],
   "source": [
    "# ROC curve and threshold plot\n",
    "\n",
    "plt.subplot(2, 1, 1)\n",
    "\n",
    "fpr, tpr, thresholds = roc_curve(y_test, y_pred_probs)\n",
    "plt.title(\"ROC Curve (AUC = %0.2f)\"% roc_auc_score(y_test, y_pred_probs))\n",
    "plt.plot(fpr, tpr, 'b')\n",
    "plt.plot([0,1],[0,1],'r--')\n",
    "plt.xlim([0,1]); plt.ylim([0,1])\n",
    "plt.ylabel('True Positive Rate')\n",
    "plt.xlabel('False Positive Rate')\n",
    "\n",
    "plt.subplot(2, 1, 2)\n",
    "\n",
    "plt.plot(thresholds, tpr, 'b', label = 'Sensitivity')\n",
    "plt.plot(thresholds, 1 -fpr, 'r', label = 'Specificity')\n",
    "plt.legend(loc = 'lower right')\n",
    "plt.xlim([0,1]); plt.ylim([0,1])\n",
    "plt.xlabel('Threshold')"
   ]
  },
  {
   "cell_type": "markdown",
   "metadata": {},
   "source": [
    "### Random forest"
   ]
  },
  {
   "cell_type": "code",
   "execution_count": 12,
   "metadata": {},
   "outputs": [
    {
     "name": "stdout",
     "output_type": "stream",
     "text": [
      "              precision    recall  f1-score   support\n",
      "\n",
      "         0.0       0.30      0.11      0.16        27\n",
      "         1.0       0.93      0.98      0.95       328\n",
      "\n",
      "    accuracy                           0.91       355\n",
      "   macro avg       0.62      0.54      0.56       355\n",
      "weighted avg       0.88      0.91      0.89       355\n",
      "\n"
     ]
    }
   ],
   "source": [
    "rf = RandomForestClassifier()\n",
    "rf.fit(X_train, y_train)\n",
    "y_pred = rf.predict(X_test)\n",
    "y_pred_probs = rf.predict_proba(X_test)[:,1]\n",
    "print(classification_report(y_test, y_pred))"
   ]
  },
  {
   "cell_type": "code",
   "execution_count": 13,
   "metadata": {},
   "outputs": [
    {
     "data": {
      "text/plain": [
       "Text(0.5, 0, 'Threshold')"
      ]
     },
     "execution_count": 13,
     "metadata": {},
     "output_type": "execute_result"
    },
    {
     "data": {
      "image/png": "[encoded data removed]",
      "text/plain": [
       "<Figure size 432x288 with 2 Axes>"
      ]
     },
     "metadata": {
      "needs_background": "light"
     },
     "output_type": "display_data"
    }
   ],
   "source": [
    "plt.subplot(2, 1, 1)\n",
    "\n",
    "fpr, tpr, thresholds = roc_curve(y_test, y_pred_probs)\n",
    "plt.title(\"ROC Curve (AUC = %0.2f)\"% roc_auc_score(y_test, y_pred_probs))\n",
    "plt.plot(fpr, tpr, 'b')\n",
    "plt.plot([0,1],[0,1],'r--')\n",
    "plt.xlim([0,1]); plt.ylim([0,1])\n",
    "plt.ylabel('True Positive Rate')\n",
    "plt.xlabel('False Positive Rate')\n",
    "\n",
    "plt.subplot(2, 1, 2)\n",
    "\n",
    "plt.plot(thresholds, tpr, 'b', label = 'Sensitivity')\n",
    "plt.plot(thresholds, 1 -fpr, 'r', label = 'Specificity')\n",
    "plt.legend(loc = 'lower right')\n",
    "plt.xlim([0,1]); plt.ylim([0,1])\n",
    "plt.xlabel('Threshold')\n"
   ]
  },
  {
   "cell_type": "code",
   "execution_count": 14,
   "metadata": {},
   "outputs": [
    {
     "data": {
      "text/plain": [
       "[Text(0, 0, 'Annual_Income_6'),\n",
       " Text(0, 0, 'Employment_9'),\n",
       " Text(0, 0, 'Annual_Income_4'),\n",
       " Text(0, 0, 'Employment_3'),\n",
       " Text(0, 0, 'Household_4'),\n",
       " Text(0, 0, 'Age')]"
      ]
     },
     "execution_count": 14,
     "metadata": {},
     "output_type": "execute_result"
    },
    {
     "data": {
      "image/png": "[encoded data removed]",
      "text/plain": [
       "<Figure size 432x288 with 1 Axes>"
      ]
     },
     "metadata": {
      "needs_background": "light"
     },
     "output_type": "display_data"
    }
   ],
   "source": [
    "## Plot top 6 most significant features\n",
    "top_idx = list(np.argsort(rf.feature_importances_)[-6:]) \n",
    "bplot = pd.Series(rf.feature_importances_[top_idx])\n",
    "selected_features = pd.Series(X.columns)\n",
    "xticks = selected_features[top_idx]\n",
    "p2 = bplot.plot(kind='bar',rot=-30,ylim=(0,0.4))\n",
    "p2.set_xticklabels(xticks)"
   ]
  }
 ],
 "metadata": {
  "kernelspec": {
   "display_name": "Python 3",
   "language": "python",
   "name": "python3"
  },
  "language_info": {
   "codemirror_mode": {
    "name": "ipython",
    "version": 3
   },
   "file_extension": ".py",
   "mimetype": "text/x-python",
   "name": "python",
   "nbconvert_exporter": "python",
   "pygments_lexer": "ipython3",
   "version": "3.7.3"
  }
 },
 "nbformat": 4,
 "nbformat_minor": 2
}
